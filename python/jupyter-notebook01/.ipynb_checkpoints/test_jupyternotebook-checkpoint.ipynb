{
 "cells": [
  {
   "cell_type": "code",
   "execution_count": null,
   "metadata": {},
   "outputs": [],
   "source": [
    "# we are learning python with ammar"
   ]
  },
  {
   "cell_type": "markdown",
   "id": "2ff456f7",
   "metadata": {},
   "source": []
  }
 ],
 "metadata": {
  "language_info": {
   "name": "python"
  }
 },
 "nbformat": 4,
 "nbformat_minor": 5
}
