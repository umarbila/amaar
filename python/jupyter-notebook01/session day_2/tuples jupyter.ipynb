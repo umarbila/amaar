{
 "cells": [
  {
   "cell_type": "markdown",
   "id": "fc4cea2f",
   "metadata": {},
   "source": [
    "**Basic data structure in python**\n",
    "1- tuple\n",
    "2- list\n",
    "3- dictionaries\n",
    "4- set"
   ]
  },
  {
   "cell_type": "markdown",
   "id": "2b33e99f",
   "metadata": {},
   "source": [
    "##- Tuple\n",
    "- orderd collection of elements\n",
    "- enclosed in()\n",
    "- different kinds of elements can stord\n",
    "- once element are stor you can not change them"
   ]
  },
  {
   "cell_type": "code",
   "execution_count": 7,
   "id": "60e5ad28",
   "metadata": {},
   "outputs": [
    {
     "data": {
      "text/plain": [
       "(2, 'python', True, 2.5)"
      ]
     },
     "execution_count": 7,
     "metadata": {},
     "output_type": "execute_result"
    }
   ],
   "source": [
    "tup1 = (2, \"python\", True, 2.5)\n",
    "tup1"
   ]
  },
  {
   "cell_type": "code",
   "execution_count": 8,
   "id": "a3eb9a75",
   "metadata": {},
   "outputs": [
    {
     "data": {
      "text/plain": [
       "tuple"
      ]
     },
     "execution_count": 8,
     "metadata": {},
     "output_type": "execute_result"
    }
   ],
   "source": [
    "# type of a tuple\n",
    "type(tup1)"
   ]
  },
  {
   "cell_type": "markdown",
   "id": "ebfa96cb",
   "metadata": {},
   "source": [
    "### - indexing in tuple"
   ]
  },
  {
   "cell_type": "code",
   "execution_count": 11,
   "id": "d34771bd",
   "metadata": {},
   "outputs": [
    {
     "data": {
      "text/plain": [
       "2"
      ]
     },
     "execution_count": 11,
     "metadata": {},
     "output_type": "execute_result"
    }
   ],
   "source": [
    "tup1[0]"
   ]
  },
  {
   "cell_type": "code",
   "execution_count": 12,
   "id": "33b0a46a",
   "metadata": {},
   "outputs": [
    {
     "data": {
      "text/plain": [
       "'python'"
      ]
     },
     "execution_count": 12,
     "metadata": {},
     "output_type": "execute_result"
    }
   ],
   "source": [
    "tup1[1]"
   ]
  },
  {
   "cell_type": "code",
   "execution_count": 14,
   "id": "e783fae8",
   "metadata": {},
   "outputs": [
    {
     "data": {
      "text/plain": [
       "True"
      ]
     },
     "execution_count": 14,
     "metadata": {},
     "output_type": "execute_result"
    }
   ],
   "source": [
    "tup1[2]"
   ]
  },
  {
   "cell_type": "code",
   "execution_count": 15,
   "id": "60beb681",
   "metadata": {},
   "outputs": [
    {
     "data": {
      "text/plain": [
       "('python', True)"
      ]
     },
     "execution_count": 15,
     "metadata": {},
     "output_type": "execute_result"
    }
   ],
   "source": [
    "tup1[1:3]"
   ]
  },
  {
   "cell_type": "code",
   "execution_count": 16,
   "id": "78c7d609",
   "metadata": {},
   "outputs": [
    {
     "data": {
      "text/plain": [
       "(2, 'python', True)"
      ]
     },
     "execution_count": 16,
     "metadata": {},
     "output_type": "execute_result"
    }
   ],
   "source": [
    "last element is exclusive\n",
    "tup1[0:3]"
   ]
  },
  {
   "cell_type": "code",
   "execution_count": 17,
   "id": "d216e5d5",
   "metadata": {},
   "outputs": [
    {
     "data": {
      "text/plain": [
       "4"
      ]
     },
     "execution_count": 17,
     "metadata": {},
     "output_type": "execute_result"
    }
   ],
   "source": [
    "# account of elements in tuple\n",
    "len(tup1)"
   ]
  },
  {
   "cell_type": "code",
   "execution_count": 18,
   "id": "ac530f4a",
   "metadata": {},
   "outputs": [
    {
     "data": {
      "text/plain": [
       "(5, 'baba ammar', 5.5, False)"
      ]
     },
     "execution_count": 18,
     "metadata": {},
     "output_type": "execute_result"
    }
   ],
   "source": [
    "tup2 = (5, \"baba ammar\", 5.5, False)\n",
    "tup2"
   ]
  },
  {
   "cell_type": "code",
   "execution_count": 19,
   "id": "61d59586",
   "metadata": {},
   "outputs": [
    {
     "data": {
      "text/plain": [
       "(2, 'python', True, 2.5, 5, 'baba ammar', 5.5, False)"
      ]
     },
     "execution_count": 19,
     "metadata": {},
     "output_type": "execute_result"
    }
   ],
   "source": [
    "# concatinate(to add two or more tuple)\n",
    "tup1 + tup2"
   ]
  },
  {
   "cell_type": "code",
   "execution_count": 23,
   "id": "b5f233ef",
   "metadata": {},
   "outputs": [
    {
     "data": {
      "text/plain": [
       "(2, 'python', True, 2.5, 2, 'python', True, 2.5, 5, 'baba ammar', 5.5, False)"
      ]
     },
     "execution_count": 23,
     "metadata": {},
     "output_type": "execute_result"
    }
   ],
   "source": [
    "tup1*2 + tup2"
   ]
  },
  {
   "cell_type": "code",
   "execution_count": 26,
   "id": "349a009c",
   "metadata": {},
   "outputs": [
    {
     "data": {
      "text/plain": [
       "(20, 30, 40, 50)"
      ]
     },
     "execution_count": 26,
     "metadata": {},
     "output_type": "execute_result"
    }
   ],
   "source": [
    "tup3 = (20, 30, 40, 50)\n",
    "tup3"
   ]
  },
  {
   "cell_type": "code",
   "execution_count": 27,
   "id": "ce9be9a1",
   "metadata": {},
   "outputs": [
    {
     "data": {
      "text/plain": [
       "20"
      ]
     },
     "execution_count": 27,
     "metadata": {},
     "output_type": "execute_result"
    }
   ],
   "source": [
    "# minimum\n",
    "min(tup3)"
   ]
  },
  {
   "cell_type": "code",
   "execution_count": 28,
   "id": "1a120b8d",
   "metadata": {},
   "outputs": [
    {
     "data": {
      "text/plain": [
       "50"
      ]
     },
     "execution_count": 28,
     "metadata": {},
     "output_type": "execute_result"
    }
   ],
   "source": [
    "max(tup3)"
   ]
  },
  {
   "cell_type": "code",
   "execution_count": 29,
   "id": "362b721a",
   "metadata": {},
   "outputs": [
    {
     "data": {
      "text/plain": [
       "(20, 30, 40, 50, 20, 30, 40, 50)"
      ]
     },
     "execution_count": 29,
     "metadata": {},
     "output_type": "execute_result"
    }
   ],
   "source": [
    "tup3*2"
   ]
  },
  {
   "cell_type": "markdown",
   "id": "22c0daa4",
   "metadata": {},
   "source": [
    "## 2- lists\n",
    "- ordered of collection of elements\n",
    "- enclosed in [] squre bractes\n",
    "- muteable, you can change the value"
   ]
  },
  {
   "cell_type": "code",
   "execution_count": 30,
   "id": "ad4a49cf",
   "metadata": {},
   "outputs": [
    {
     "data": {
      "text/plain": [
       "[2, 'python', True]"
      ]
     },
     "execution_count": 30,
     "metadata": {},
     "output_type": "execute_result"
    }
   ],
   "source": [
    "list1 = [2, \"python\", True]\n",
    "list1"
   ]
  },
  {
   "cell_type": "code",
   "execution_count": 31,
   "id": "971e28c7",
   "metadata": {},
   "outputs": [
    {
     "data": {
      "text/plain": [
       "list"
      ]
     },
     "execution_count": 31,
     "metadata": {},
     "output_type": "execute_result"
    }
   ],
   "source": [
    "type(list1)"
   ]
  },
  {
   "cell_type": "code",
   "execution_count": 32,
   "id": "d5fd4293",
   "metadata": {},
   "outputs": [
    {
     "data": {
      "text/plain": [
       "3"
      ]
     },
     "execution_count": 32,
     "metadata": {},
     "output_type": "execute_result"
    }
   ],
   "source": [
    "len(list1)"
   ]
  },
  {
   "cell_type": "code",
   "execution_count": 35,
   "id": "7fb6952e",
   "metadata": {},
   "outputs": [
    {
     "data": {
      "text/plain": [
       "True"
      ]
     },
     "execution_count": 35,
     "metadata": {},
     "output_type": "execute_result"
    }
   ],
   "source": [
    "list1[2]"
   ]
  },
  {
   "cell_type": "code",
   "execution_count": 37,
   "id": "fa1a1283",
   "metadata": {},
   "outputs": [
    {
     "data": {
      "text/plain": [
       "[3, 5, 'ammar', 'codanics', 478, 53.2, False]"
      ]
     },
     "execution_count": 37,
     "metadata": {},
     "output_type": "execute_result"
    }
   ],
   "source": [
    "list2=[3, 5, \"ammar\", \"codanics\", 478, 53.2, False] \n",
    "list2"
   ]
  },
  {
   "cell_type": "code",
   "execution_count": 38,
   "id": "416bf766",
   "metadata": {},
   "outputs": [
    {
     "data": {
      "text/plain": [
       "[2, 'python', True, 3, 5, 'ammar', 'codanics', 478, 53.2, False]"
      ]
     },
     "execution_count": 38,
     "metadata": {},
     "output_type": "execute_result"
    }
   ],
   "source": [
    "list1 + list2"
   ]
  },
  {
   "cell_type": "code",
   "execution_count": 41,
   "id": "ea360d53",
   "metadata": {},
   "outputs": [
    {
     "data": {
      "text/plain": [
       "[3,\n",
       " 5,\n",
       " 'ammar',\n",
       " 'codanics',\n",
       " 478,\n",
       " 53.2,\n",
       " False,\n",
       " 3,\n",
       " 5,\n",
       " 'ammar',\n",
       " 'codanics',\n",
       " 478,\n",
       " 53.2,\n",
       " False]"
      ]
     },
     "execution_count": 41,
     "metadata": {},
     "output_type": "execute_result"
    }
   ],
   "source": [
    "list1*2"
   ]
  },
  {
   "cell_type": "code",
   "execution_count": 42,
   "id": "adccc064",
   "metadata": {},
   "outputs": [
    {
     "data": {
      "text/plain": [
       "[False, 53.2, 478, 'codanics', 'ammar', 5, 3]"
      ]
     },
     "execution_count": 42,
     "metadata": {},
     "output_type": "execute_result"
    }
   ],
   "source": [
    "list1.reverse()\n",
    "list1"
   ]
  },
  {
   "cell_type": "code",
   "execution_count": 49,
   "id": "4c576cb8",
   "metadata": {},
   "outputs": [
    {
     "data": {
      "text/plain": [
       "[False,\n",
       " 53.2,\n",
       " 478,\n",
       " 'codanics',\n",
       " 'ammar',\n",
       " 5,\n",
       " 3,\n",
       " 'codanics youtbe channel',\n",
       " 'codanics youtbe channel',\n",
       " 'codanics youtbe channel']"
      ]
     },
     "execution_count": 49,
     "metadata": {},
     "output_type": "execute_result"
    }
   ],
   "source": [
    "list1.append(\"codanics youtbe channel\")\n",
    "list1"
   ]
  },
  {
   "cell_type": "code",
   "execution_count": 50,
   "id": "918344b5",
   "metadata": {},
   "outputs": [
    {
     "data": {
      "text/plain": [
       "[20, 30, 40, 50, 10, 12, 27]"
      ]
     },
     "execution_count": 50,
     "metadata": {},
     "output_type": "execute_result"
    }
   ],
   "source": [
    "list3 = [20, 30, 40, 50, 10, 12, 27]\n",
    "list3"
   ]
  },
  {
   "cell_type": "code",
   "execution_count": 51,
   "id": "d93e02b8",
   "metadata": {},
   "outputs": [
    {
     "data": {
      "text/plain": [
       "7"
      ]
     },
     "execution_count": 51,
     "metadata": {},
     "output_type": "execute_result"
    }
   ],
   "source": [
    "len(list3)"
   ]
  },
  {
   "cell_type": "markdown",
   "id": "536c28b8",
   "metadata": {},
   "source": [
    "sorting a list"
   ]
  },
  {
   "cell_type": "code",
   "execution_count": 53,
   "id": "390bec87",
   "metadata": {},
   "outputs": [
    {
     "data": {
      "text/plain": [
       "[10, 12, 20, 27, 30, 40, 50]"
      ]
     },
     "execution_count": 53,
     "metadata": {},
     "output_type": "execute_result"
    }
   ],
   "source": [
    "list3.sort()\n",
    "list3"
   ]
  },
  {
   "cell_type": "code",
   "execution_count": 54,
   "id": "a6091511",
   "metadata": {},
   "outputs": [
    {
     "data": {
      "text/plain": [
       "[10,\n",
       " 12,\n",
       " 20,\n",
       " 27,\n",
       " 30,\n",
       " 40,\n",
       " 50,\n",
       " 10,\n",
       " 12,\n",
       " 20,\n",
       " 27,\n",
       " 30,\n",
       " 40,\n",
       " 50,\n",
       " 10,\n",
       " 12,\n",
       " 20,\n",
       " 27,\n",
       " 30,\n",
       " 40,\n",
       " 50]"
      ]
     },
     "execution_count": 54,
     "metadata": {},
     "output_type": "execute_result"
    }
   ],
   "source": [
    "list3*3"
   ]
  },
  {
   "cell_type": "code",
   "execution_count": 56,
   "id": "05c33486",
   "metadata": {},
   "outputs": [
    {
     "data": {
      "text/plain": [
       "[False,\n",
       " 53.2,\n",
       " 478,\n",
       " 'codanics',\n",
       " 'ammar',\n",
       " 5,\n",
       " 3,\n",
       " 'codanics youtbe channel',\n",
       " 'codanics youtbe channel',\n",
       " 'codanics youtbe channel',\n",
       " False,\n",
       " 53.2,\n",
       " 478,\n",
       " 'codanics',\n",
       " 'ammar',\n",
       " 5,\n",
       " 3,\n",
       " 'codanics youtbe channel',\n",
       " 'codanics youtbe channel',\n",
       " 'codanics youtbe channel']"
      ]
     },
     "execution_count": 56,
     "metadata": {},
     "output_type": "execute_result"
    }
   ],
   "source": [
    "list1 + list2"
   ]
  },
  {
   "cell_type": "code",
   "execution_count": 57,
   "id": "3d3132da",
   "metadata": {},
   "outputs": [
    {
     "data": {
      "text/plain": [
       "[False,\n",
       " 53.2,\n",
       " 478,\n",
       " 'codanics',\n",
       " 'ammar',\n",
       " 5,\n",
       " 3,\n",
       " 'codanics youtbe channel',\n",
       " 'codanics youtbe channel',\n",
       " 'codanics youtbe channel',\n",
       " False,\n",
       " 53.2,\n",
       " 478,\n",
       " 'codanics',\n",
       " 'ammar',\n",
       " 5,\n",
       " 3,\n",
       " 'codanics youtbe channel',\n",
       " 'codanics youtbe channel',\n",
       " 'codanics youtbe channel',\n",
       " 10,\n",
       " 12,\n",
       " 20,\n",
       " 27,\n",
       " 30,\n",
       " 40,\n",
       " 50]"
      ]
     },
     "execution_count": 57,
     "metadata": {},
     "output_type": "execute_result"
    }
   ],
   "source": [
    "list1 + list2 + list3"
   ]
  },
  {
   "cell_type": "markdown",
   "id": "9942e6f8",
   "metadata": {},
   "source": [
    "## 3- dictionaries\n",
    "- an unordered collection of elements\n",
    "- key and value \n",
    "- curly braces or brackets\n",
    "- mutatable/change the values"
   ]
  },
  {
   "cell_type": "code",
   "execution_count": 62,
   "id": "0e70ac4e",
   "metadata": {},
   "outputs": [
    {
     "data": {
      "text/plain": [
       "{'samosa': 30, 'pakora': 100, 'rita': 20, 'salad': 50, 'chikenrole': 70}"
      ]
     },
     "execution_count": 62,
     "metadata": {},
     "output_type": "execute_result"
    }
   ],
   "source": [
    "#food anx their prices\n",
    "Food1 = {\"samosa\": 30, \"pakora\": 100, \"rita\": 20, \"salad\": 50, \"chikenrole\": 70 }\n",
    "Food1"
   ]
  },
  {
   "cell_type": "code",
   "execution_count": 63,
   "id": "62ca5b31",
   "metadata": {},
   "outputs": [
    {
     "data": {
      "text/plain": [
       "dict"
      ]
     },
     "execution_count": 63,
     "metadata": {},
     "output_type": "execute_result"
    }
   ],
   "source": [
    "type(Food1)"
   ]
  },
  {
   "cell_type": "code",
   "execution_count": 65,
   "id": "0df80934",
   "metadata": {},
   "outputs": [
    {
     "data": {
      "text/plain": [
       "dict_keys(['samosa', 'pakora', 'rita', 'salad', 'chikenrole'])"
      ]
     },
     "execution_count": 65,
     "metadata": {},
     "output_type": "execute_result"
    }
   ],
   "source": [
    "# extract data\n",
    "keys1 = Food1.keys()\n",
    "keys1"
   ]
  },
  {
   "cell_type": "code",
   "execution_count": 66,
   "id": "6e9629a3",
   "metadata": {},
   "outputs": [
    {
     "data": {
      "text/plain": [
       "dict_values([30, 100, 20, 50, 70])"
      ]
     },
     "execution_count": 66,
     "metadata": {},
     "output_type": "execute_result"
    }
   ],
   "source": [
    "Food1.values()"
   ]
  },
  {
   "cell_type": "code",
   "execution_count": 68,
   "id": "57357cce",
   "metadata": {},
   "outputs": [
    {
     "data": {
      "text/plain": [
       "{'samosa': 30,\n",
       " 'pakora': 100,\n",
       " 'rita': 20,\n",
       " 'salad': 50,\n",
       " 'chikenrole': 70,\n",
       " 'ticki': 10}"
      ]
     },
     "execution_count": 68,
     "metadata": {},
     "output_type": "execute_result"
    }
   ],
   "source": [
    "# adding new values in food\n",
    "Food1[\"ticki\"]=10\n",
    "Food1"
   ]
  },
  {
   "cell_type": "code",
   "execution_count": 69,
   "id": "b9384513",
   "metadata": {},
   "outputs": [
    {
     "data": {
      "text/plain": [
       "{'samosa': 30,\n",
       " 'pakora': 100,\n",
       " 'rita': 20,\n",
       " 'salad': 50,\n",
       " 'chikenrole': 70,\n",
       " 'ticki': 15}"
      ]
     },
     "execution_count": 69,
     "metadata": {},
     "output_type": "execute_result"
    }
   ],
   "source": [
    "# update tthe prices\n",
    "Food1[\"ticki\"]=15\n",
    "Food1"
   ]
  },
  {
   "cell_type": "code",
   "execution_count": 72,
   "id": "cc4f3b56",
   "metadata": {},
   "outputs": [
    {
     "data": {
      "text/plain": [
       "{'dates': 100, 'chokolate': 200, 'swaiyan': 500}"
      ]
     },
     "execution_count": 72,
     "metadata": {},
     "output_type": "execute_result"
    }
   ],
   "source": [
    "Food2 = {\"dates\": 100, \"chokolate\": 200, \"swaiyan\": 500, }\n",
    "Food2"
   ]
  },
  {
   "cell_type": "code",
   "execution_count": 74,
   "id": "39ae979b",
   "metadata": {},
   "outputs": [],
   "source": [
    "# concatinate\n",
    "Food1.update(Food2) "
   ]
  },
  {
   "cell_type": "code",
   "execution_count": 75,
   "id": "fc50a556",
   "metadata": {},
   "outputs": [
    {
     "data": {
      "text/plain": [
       "{'samosa': 30,\n",
       " 'pakora': 100,\n",
       " 'rita': 20,\n",
       " 'salad': 50,\n",
       " 'chikenrole': 70,\n",
       " 'ticki': 15,\n",
       " 'dates': 100,\n",
       " 'chokolate': 200,\n",
       " 'swaiyan': 500}"
      ]
     },
     "execution_count": 75,
     "metadata": {},
     "output_type": "execute_result"
    }
   ],
   "source": [
    "Food1"
   ]
  },
  {
   "cell_type": "markdown",
   "id": "f628db82",
   "metadata": {},
   "source": [
    "## 4-Set \n",
    "- unorderd and unindexed\n",
    "- curly braces are used\n",
    "- no duplicates allow "
   ]
  },
  {
   "cell_type": "code",
   "execution_count": 81,
   "id": "98fd28da",
   "metadata": {},
   "outputs": [
    {
     "data": {
      "text/plain": [
       "{1, 2.1, 5.2, 'ammar', 'codanics', 'faslaabad'}"
      ]
     },
     "execution_count": 81,
     "metadata": {},
     "output_type": "execute_result"
    }
   ],
   "source": [
    "#duplicates cannot add in sets\n",
    "s1 = {1, 2.1, 5.2, \"ammar\", \"codanics\", \"faslaabad\", } \n",
    "s1"
   ]
  },
  {
   "cell_type": "code",
   "execution_count": 84,
   "id": "91750e28",
   "metadata": {},
   "outputs": [
    {
     "data": {
      "text/plain": [
       "{1, 2.1, 5.2, 'ammar', 'codanics', 'faslaabad', 'umar'}"
      ]
     },
     "execution_count": 84,
     "metadata": {},
     "output_type": "execute_result"
    }
   ],
   "source": [
    "s1.add(\"umar\")\n",
    "s1"
   ]
  },
  {
   "cell_type": "code",
   "execution_count": 85,
   "id": "94dbe827",
   "metadata": {},
   "outputs": [
    {
     "data": {
      "text/plain": [
       "{1, 2.1, 5.2, 'ammar', 'codanics', 'faslaabad'}"
      ]
     },
     "execution_count": 85,
     "metadata": {},
     "output_type": "execute_result"
    }
   ],
   "source": [
    "# for removing anything\n",
    "s1.remove(\"umar\")\n",
    "s1"
   ]
  },
  {
   "cell_type": "code",
   "execution_count": null,
   "id": "ec9e7df5",
   "metadata": {},
   "outputs": [],
   "source": []
  },
  {
   "cell_type": "code",
   "execution_count": null,
   "id": "c7c3850a",
   "metadata": {},
   "outputs": [],
   "source": []
  },
  {
   "cell_type": "code",
   "execution_count": null,
   "id": "9fad21c4",
   "metadata": {},
   "outputs": [],
   "source": []
  },
  {
   "cell_type": "code",
   "execution_count": null,
   "id": "99ff4071",
   "metadata": {},
   "outputs": [],
   "source": []
  },
  {
   "cell_type": "code",
   "execution_count": null,
   "id": "40fa7243",
   "metadata": {},
   "outputs": [],
   "source": []
  },
  {
   "cell_type": "code",
   "execution_count": null,
   "id": "a3427681",
   "metadata": {},
   "outputs": [],
   "source": []
  },
  {
   "cell_type": "code",
   "execution_count": null,
   "id": "71154b61",
   "metadata": {},
   "outputs": [],
   "source": []
  },
  {
   "cell_type": "code",
   "execution_count": null,
   "id": "5cec8ef6",
   "metadata": {},
   "outputs": [],
   "source": []
  },
  {
   "cell_type": "code",
   "execution_count": null,
   "id": "4c6ba239",
   "metadata": {},
   "outputs": [],
   "source": []
  },
  {
   "cell_type": "code",
   "execution_count": null,
   "id": "11fea7d7",
   "metadata": {},
   "outputs": [],
   "source": []
  },
  {
   "cell_type": "code",
   "execution_count": null,
   "id": "f22f6363",
   "metadata": {},
   "outputs": [],
   "source": []
  }
 ],
 "metadata": {
  "kernelspec": {
   "display_name": "Python 3 (ipykernel)",
   "language": "python",
   "name": "python3"
  },
  "language_info": {
   "codemirror_mode": {
    "name": "ipython",
    "version": 3
   },
   "file_extension": ".py",
   "mimetype": "text/x-python",
   "name": "python",
   "nbconvert_exporter": "python",
   "pygments_lexer": "ipython3",
   "version": "3.9.7"
  }
 },
 "nbformat": 4,
 "nbformat_minor": 5
}
