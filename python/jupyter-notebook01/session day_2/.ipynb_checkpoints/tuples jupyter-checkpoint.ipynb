{
 "cells": [
  {
   "cell_type": "markdown",
   "id": "628d6184",
   "metadata": {},
   "source": [
    "**Basic data structure in python**\n",
    "1- tuple\n",
    "2- list\n",
    "3- dictionaries\n",
    "4- set"
   ]
  },
  {
   "cell_type": "markdown",
   "id": "464272f4",
   "metadata": {},
   "source": [
    "##- Tuple\n",
    "- orderd collection of elements\n",
    "- enclosed in()\n",
    "- different kinds of elements can stord\n",
    "- once element are stor you can not change them"
   ]
  },
  {
   "cell_type": "code",
   "execution_count": 7,
   "id": "7673986e",
   "metadata": {},
   "outputs": [
    {
     "data": {
      "text/plain": [
       "(2, 'python', True, 2.5)"
      ]
     },
     "execution_count": 7,
     "metadata": {},
     "output_type": "execute_result"
    }
   ],
   "source": [
    "tup1 = (2, \"python\", True, 2.5)\n",
    "tup1"
   ]
  },
  {
   "cell_type": "code",
   "execution_count": 8,
   "id": "1d4f7dfd",
   "metadata": {},
   "outputs": [
    {
     "data": {
      "text/plain": [
       "tuple"
      ]
     },
     "execution_count": 8,
     "metadata": {},
     "output_type": "execute_result"
    }
   ],
   "source": [
    "# type of a tuple\n",
    "type(tup1)"
   ]
  },
  {
   "cell_type": "markdown",
   "id": "25c4e92c",
   "metadata": {},
   "source": [
    "### - indexing in tuple"
   ]
  },
  {
   "cell_type": "code",
   "execution_count": 11,
   "id": "8540d0a1",
   "metadata": {},
   "outputs": [
    {
     "data": {
      "text/plain": [
       "2"
      ]
     },
     "execution_count": 11,
     "metadata": {},
     "output_type": "execute_result"
    }
   ],
   "source": [
    "tup1[0]"
   ]
  },
  {
   "cell_type": "code",
   "execution_count": 12,
   "id": "b18901b1",
   "metadata": {},
   "outputs": [
    {
     "data": {
      "text/plain": [
       "'python'"
      ]
     },
     "execution_count": 12,
     "metadata": {},
     "output_type": "execute_result"
    }
   ],
   "source": [
    "tup1[1]"
   ]
  },
  {
   "cell_type": "code",
   "execution_count": 14,
   "id": "9b282cc0",
   "metadata": {},
   "outputs": [
    {
     "data": {
      "text/plain": [
       "True"
      ]
     },
     "execution_count": 14,
     "metadata": {},
     "output_type": "execute_result"
    }
   ],
   "source": [
    "tup1[2]"
   ]
  },
  {
   "cell_type": "code",
   "execution_count": 15,
   "id": "a5ddf923",
   "metadata": {},
   "outputs": [
    {
     "data": {
      "text/plain": [
       "('python', True)"
      ]
     },
     "execution_count": 15,
     "metadata": {},
     "output_type": "execute_result"
    }
   ],
   "source": [
    "tup1[1:3]"
   ]
  },
  {
   "cell_type": "code",
   "execution_count": 16,
   "id": "1858b7e2",
   "metadata": {},
   "outputs": [
    {
     "data": {
      "text/plain": [
       "(2, 'python', True)"
      ]
     },
     "execution_count": 16,
     "metadata": {},
     "output_type": "execute_result"
    }
   ],
   "source": [
    "last element is exclusive\n",
    "tup1[0:3]"
   ]
  },
  {
   "cell_type": "code",
   "execution_count": 17,
   "id": "c61c0633",
   "metadata": {},
   "outputs": [
    {
     "data": {
      "text/plain": [
       "4"
      ]
     },
     "execution_count": 17,
     "metadata": {},
     "output_type": "execute_result"
    }
   ],
   "source": [
    "# account of elements in tuple\n",
    "len(tup1)"
   ]
  },
  {
   "cell_type": "code",
   "execution_count": 18,
   "id": "32a9205b",
   "metadata": {},
   "outputs": [
    {
     "data": {
      "text/plain": [
       "(5, 'baba ammar', 5.5, False)"
      ]
     },
     "execution_count": 18,
     "metadata": {},
     "output_type": "execute_result"
    }
   ],
   "source": [
    "tup2 = (5, \"baba ammar\", 5.5, False)\n",
    "tup2"
   ]
  },
  {
   "cell_type": "code",
   "execution_count": 19,
   "id": "10c2b8b7",
   "metadata": {},
   "outputs": [
    {
     "data": {
      "text/plain": [
       "(2, 'python', True, 2.5, 5, 'baba ammar', 5.5, False)"
      ]
     },
     "execution_count": 19,
     "metadata": {},
     "output_type": "execute_result"
    }
   ],
   "source": [
    "# concatinate(to add two or more tuple)\n",
    "tup1 + tup2"
   ]
  },
  {
   "cell_type": "code",
   "execution_count": 23,
   "id": "b31321d1",
   "metadata": {},
   "outputs": [
    {
     "data": {
      "text/plain": [
       "(2, 'python', True, 2.5, 2, 'python', True, 2.5, 5, 'baba ammar', 5.5, False)"
      ]
     },
     "execution_count": 23,
     "metadata": {},
     "output_type": "execute_result"
    }
   ],
   "source": [
    "tup1*2 + tup2"
   ]
  },
  {
   "cell_type": "code",
   "execution_count": 26,
   "id": "d1d5d3f2",
   "metadata": {},
   "outputs": [
    {
     "data": {
      "text/plain": [
       "(20, 30, 40, 50)"
      ]
     },
     "execution_count": 26,
     "metadata": {},
     "output_type": "execute_result"
    }
   ],
   "source": [
    "tup3 = (20, 30, 40, 50)\n",
    "tup3"
   ]
  },
  {
   "cell_type": "code",
   "execution_count": 27,
   "id": "98ffc37b",
   "metadata": {},
   "outputs": [
    {
     "data": {
      "text/plain": [
       "20"
      ]
     },
     "execution_count": 27,
     "metadata": {},
     "output_type": "execute_result"
    }
   ],
   "source": [
    "# minimum\n",
    "min(tup3)"
   ]
  },
  {
   "cell_type": "code",
   "execution_count": 28,
   "id": "73306590",
   "metadata": {},
   "outputs": [
    {
     "data": {
      "text/plain": [
       "50"
      ]
     },
     "execution_count": 28,
     "metadata": {},
     "output_type": "execute_result"
    }
   ],
   "source": [
    "max(tup3)"
   ]
  },
  {
   "cell_type": "code",
   "execution_count": 29,
   "id": "0672c5c0",
   "metadata": {},
   "outputs": [
    {
     "data": {
      "text/plain": [
       "(20, 30, 40, 50, 20, 30, 40, 50)"
      ]
     },
     "execution_count": 29,
     "metadata": {},
     "output_type": "execute_result"
    }
   ],
   "source": [
    "tup3*2"
   ]
  },
  {
   "cell_type": "markdown",
   "id": "ba4e88f9",
   "metadata": {},
   "source": [
    "## 2- lists\n",
    "- ordered of collection of elements\n",
    "- enclosed in [] squre bractes\n",
    "- muteable, you can change the value"
   ]
  },
  {
   "cell_type": "code",
   "execution_count": 30,
   "id": "83f7d7ae",
   "metadata": {},
   "outputs": [
    {
     "data": {
      "text/plain": [
       "[2, 'python', True]"
      ]
     },
     "execution_count": 30,
     "metadata": {},
     "output_type": "execute_result"
    }
   ],
   "source": [
    "list1 = [2, \"python\", True]\n",
    "list1"
   ]
  },
  {
   "cell_type": "code",
   "execution_count": 31,
   "id": "e2566905",
   "metadata": {},
   "outputs": [
    {
     "data": {
      "text/plain": [
       "list"
      ]
     },
     "execution_count": 31,
     "metadata": {},
     "output_type": "execute_result"
    }
   ],
   "source": [
    "type(list1)"
   ]
  },
  {
   "cell_type": "code",
   "execution_count": 32,
   "id": "7a00ee57",
   "metadata": {},
   "outputs": [
    {
     "data": {
      "text/plain": [
       "3"
      ]
     },
     "execution_count": 32,
     "metadata": {},
     "output_type": "execute_result"
    }
   ],
   "source": [
    "len(list1)"
   ]
  },
  {
   "cell_type": "code",
   "execution_count": 35,
   "id": "cce8b3a5",
   "metadata": {},
   "outputs": [
    {
     "data": {
      "text/plain": [
       "True"
      ]
     },
     "execution_count": 35,
     "metadata": {},
     "output_type": "execute_result"
    }
   ],
   "source": [
    "list1[2]"
   ]
  },
  {
   "cell_type": "code",
   "execution_count": 37,
   "id": "1b60112b",
   "metadata": {},
   "outputs": [
    {
     "data": {
      "text/plain": [
       "[3, 5, 'ammar', 'codanics', 478, 53.2, False]"
      ]
     },
     "execution_count": 37,
     "metadata": {},
     "output_type": "execute_result"
    }
   ],
   "source": [
    "list2=[3, 5, \"ammar\", \"codanics\", 478, 53.2, False] \n",
    "list2"
   ]
  },
  {
   "cell_type": "code",
   "execution_count": 38,
   "id": "41ee6bef",
   "metadata": {},
   "outputs": [
    {
     "data": {
      "text/plain": [
       "[2, 'python', True, 3, 5, 'ammar', 'codanics', 478, 53.2, False]"
      ]
     },
     "execution_count": 38,
     "metadata": {},
     "output_type": "execute_result"
    }
   ],
   "source": [
    "list1 + list2"
   ]
  },
  {
   "cell_type": "code",
   "execution_count": 41,
   "id": "bde5217c",
   "metadata": {},
   "outputs": [
    {
     "data": {
      "text/plain": [
       "[3,\n",
       " 5,\n",
       " 'ammar',\n",
       " 'codanics',\n",
       " 478,\n",
       " 53.2,\n",
       " False,\n",
       " 3,\n",
       " 5,\n",
       " 'ammar',\n",
       " 'codanics',\n",
       " 478,\n",
       " 53.2,\n",
       " False]"
      ]
     },
     "execution_count": 41,
     "metadata": {},
     "output_type": "execute_result"
    }
   ],
   "source": [
    "list1*2"
   ]
  },
  {
   "cell_type": "code",
   "execution_count": 42,
   "id": "01e428bb",
   "metadata": {},
   "outputs": [
    {
     "data": {
      "text/plain": [
       "[False, 53.2, 478, 'codanics', 'ammar', 5, 3]"
      ]
     },
     "execution_count": 42,
     "metadata": {},
     "output_type": "execute_result"
    }
   ],
   "source": [
    "list1.reverse()\n",
    "list1"
   ]
  },
  {
   "cell_type": "code",
   "execution_count": 49,
   "id": "303193b7",
   "metadata": {},
   "outputs": [
    {
     "data": {
      "text/plain": [
       "[False,\n",
       " 53.2,\n",
       " 478,\n",
       " 'codanics',\n",
       " 'ammar',\n",
       " 5,\n",
       " 3,\n",
       " 'codanics youtbe channel',\n",
       " 'codanics youtbe channel',\n",
       " 'codanics youtbe channel']"
      ]
     },
     "execution_count": 49,
     "metadata": {},
     "output_type": "execute_result"
    }
   ],
   "source": [
    "list1.append(\"codanics youtbe channel\")\n",
    "list1"
   ]
  },
  {
   "cell_type": "code",
   "execution_count": 50,
   "id": "5979ed44",
   "metadata": {},
   "outputs": [
    {
     "data": {
      "text/plain": [
       "[20, 30, 40, 50, 10, 12, 27]"
      ]
     },
     "execution_count": 50,
     "metadata": {},
     "output_type": "execute_result"
    }
   ],
   "source": [
    "list3 = [20, 30, 40, 50, 10, 12, 27]\n",
    "list3"
   ]
  },
  {
   "cell_type": "code",
   "execution_count": 51,
   "id": "259133e7",
   "metadata": {},
   "outputs": [
    {
     "data": {
      "text/plain": [
       "7"
      ]
     },
     "execution_count": 51,
     "metadata": {},
     "output_type": "execute_result"
    }
   ],
   "source": [
    "len(list3)"
   ]
  },
  {
   "cell_type": "markdown",
   "id": "c0075cc3",
   "metadata": {},
   "source": [
    "sorting a list"
   ]
  },
  {
   "cell_type": "code",
   "execution_count": 53,
   "id": "7d8b3701",
   "metadata": {},
   "outputs": [
    {
     "data": {
      "text/plain": [
       "[10, 12, 20, 27, 30, 40, 50]"
      ]
     },
     "execution_count": 53,
     "metadata": {},
     "output_type": "execute_result"
    }
   ],
   "source": [
    "list3.sort()\n",
    "list3"
   ]
  },
  {
   "cell_type": "code",
   "execution_count": 54,
   "id": "e7b4f20a",
   "metadata": {},
   "outputs": [
    {
     "data": {
      "text/plain": [
       "[10,\n",
       " 12,\n",
       " 20,\n",
       " 27,\n",
       " 30,\n",
       " 40,\n",
       " 50,\n",
       " 10,\n",
       " 12,\n",
       " 20,\n",
       " 27,\n",
       " 30,\n",
       " 40,\n",
       " 50,\n",
       " 10,\n",
       " 12,\n",
       " 20,\n",
       " 27,\n",
       " 30,\n",
       " 40,\n",
       " 50]"
      ]
     },
     "execution_count": 54,
     "metadata": {},
     "output_type": "execute_result"
    }
   ],
   "source": [
    "list3*3"
   ]
  },
  {
   "cell_type": "code",
   "execution_count": 56,
   "id": "e8f6689b",
   "metadata": {},
   "outputs": [
    {
     "data": {
      "text/plain": [
       "[False,\n",
       " 53.2,\n",
       " 478,\n",
       " 'codanics',\n",
       " 'ammar',\n",
       " 5,\n",
       " 3,\n",
       " 'codanics youtbe channel',\n",
       " 'codanics youtbe channel',\n",
       " 'codanics youtbe channel',\n",
       " False,\n",
       " 53.2,\n",
       " 478,\n",
       " 'codanics',\n",
       " 'ammar',\n",
       " 5,\n",
       " 3,\n",
       " 'codanics youtbe channel',\n",
       " 'codanics youtbe channel',\n",
       " 'codanics youtbe channel']"
      ]
     },
     "execution_count": 56,
     "metadata": {},
     "output_type": "execute_result"
    }
   ],
   "source": [
    "list1 + list2"
   ]
  },
  {
   "cell_type": "code",
   "execution_count": 57,
   "id": "0f61de17",
   "metadata": {},
   "outputs": [
    {
     "data": {
      "text/plain": [
       "[False,\n",
       " 53.2,\n",
       " 478,\n",
       " 'codanics',\n",
       " 'ammar',\n",
       " 5,\n",
       " 3,\n",
       " 'codanics youtbe channel',\n",
       " 'codanics youtbe channel',\n",
       " 'codanics youtbe channel',\n",
       " False,\n",
       " 53.2,\n",
       " 478,\n",
       " 'codanics',\n",
       " 'ammar',\n",
       " 5,\n",
       " 3,\n",
       " 'codanics youtbe channel',\n",
       " 'codanics youtbe channel',\n",
       " 'codanics youtbe channel',\n",
       " 10,\n",
       " 12,\n",
       " 20,\n",
       " 27,\n",
       " 30,\n",
       " 40,\n",
       " 50]"
      ]
     },
     "execution_count": 57,
     "metadata": {},
     "output_type": "execute_result"
    }
   ],
   "source": [
    "list1 + list2 + list3"
   ]
  },
  {
   "cell_type": "markdown",
   "id": "57c15ee0",
   "metadata": {},
   "source": [
    "## 3- dictionaries\n",
    "- an unordered collection of elements\n",
    "- key and value \n",
    "- curly braces or brackets\n",
    "- mutatable/change the values"
   ]
  },
  {
   "cell_type": "code",
   "execution_count": 62,
   "id": "fd6de7fe",
   "metadata": {},
   "outputs": [
    {
     "data": {
      "text/plain": [
       "{'samosa': 30, 'pakora': 100, 'rita': 20, 'salad': 50, 'chikenrole': 70}"
      ]
     },
     "execution_count": 62,
     "metadata": {},
     "output_type": "execute_result"
    }
   ],
   "source": [
    "#food anx their prices\n",
    "Food1 = {\"samosa\": 30, \"pakora\": 100, \"rita\": 20, \"salad\": 50, \"chikenrole\": 70 }\n",
    "Food1"
   ]
  },
  {
   "cell_type": "code",
   "execution_count": 63,
   "id": "e59aa264",
   "metadata": {},
   "outputs": [
    {
     "data": {
      "text/plain": [
       "dict"
      ]
     },
     "execution_count": 63,
     "metadata": {},
     "output_type": "execute_result"
    }
   ],
   "source": [
    "type(Food1)"
   ]
  },
  {
   "cell_type": "code",
   "execution_count": 65,
   "id": "c091f4f5",
   "metadata": {},
   "outputs": [
    {
     "data": {
      "text/plain": [
       "dict_keys(['samosa', 'pakora', 'rita', 'salad', 'chikenrole'])"
      ]
     },
     "execution_count": 65,
     "metadata": {},
     "output_type": "execute_result"
    }
   ],
   "source": [
    "# extract data\n",
    "keys1 = Food1.keys()\n",
    "keys1"
   ]
  },
  {
   "cell_type": "code",
   "execution_count": 66,
   "id": "bbbf09d8",
   "metadata": {},
   "outputs": [
    {
     "data": {
      "text/plain": [
       "dict_values([30, 100, 20, 50, 70])"
      ]
     },
     "execution_count": 66,
     "metadata": {},
     "output_type": "execute_result"
    }
   ],
   "source": [
    "Food1.values()"
   ]
  },
  {
   "cell_type": "code",
   "execution_count": 68,
   "id": "d52874bb",
   "metadata": {},
   "outputs": [
    {
     "data": {
      "text/plain": [
       "{'samosa': 30,\n",
       " 'pakora': 100,\n",
       " 'rita': 20,\n",
       " 'salad': 50,\n",
       " 'chikenrole': 70,\n",
       " 'ticki': 10}"
      ]
     },
     "execution_count": 68,
     "metadata": {},
     "output_type": "execute_result"
    }
   ],
   "source": [
    "# adding new values in food\n",
    "Food1[\"ticki\"]=10\n",
    "Food1"
   ]
  },
  {
   "cell_type": "code",
   "execution_count": 69,
   "id": "c29d1063",
   "metadata": {},
   "outputs": [
    {
     "data": {
      "text/plain": [
       "{'samosa': 30,\n",
       " 'pakora': 100,\n",
       " 'rita': 20,\n",
       " 'salad': 50,\n",
       " 'chikenrole': 70,\n",
       " 'ticki': 15}"
      ]
     },
     "execution_count": 69,
     "metadata": {},
     "output_type": "execute_result"
    }
   ],
   "source": [
    "# update tthe prices\n",
    "Food1[\"ticki\"]=15\n",
    "Food1"
   ]
  },
  {
   "cell_type": "code",
   "execution_count": 72,
   "id": "545430ff",
   "metadata": {},
   "outputs": [
    {
     "data": {
      "text/plain": [
       "{'dates': 100, 'chokolate': 200, 'swaiyan': 500}"
      ]
     },
     "execution_count": 72,
     "metadata": {},
     "output_type": "execute_result"
    }
   ],
   "source": [
    "Food2 = {\"dates\": 100, \"chokolate\": 200, \"swaiyan\": 500, }\n",
    "Food2"
   ]
  },
  {
   "cell_type": "code",
   "execution_count": 74,
   "id": "08005e04",
   "metadata": {},
   "outputs": [],
   "source": [
    "# concatinate\n",
    "Food1.update(Food2) "
   ]
  },
  {
   "cell_type": "code",
   "execution_count": 75,
   "id": "d1cf7be5",
   "metadata": {},
   "outputs": [
    {
     "data": {
      "text/plain": [
       "{'samosa': 30,\n",
       " 'pakora': 100,\n",
       " 'rita': 20,\n",
       " 'salad': 50,\n",
       " 'chikenrole': 70,\n",
       " 'ticki': 15,\n",
       " 'dates': 100,\n",
       " 'chokolate': 200,\n",
       " 'swaiyan': 500}"
      ]
     },
     "execution_count": 75,
     "metadata": {},
     "output_type": "execute_result"
    }
   ],
   "source": [
    "Food1"
   ]
  },
  {
   "cell_type": "markdown",
   "id": "ab61f884",
   "metadata": {},
   "source": [
    "## 4-Set \n",
    "- unorderd and unindexed\n",
    "- curly braces are used\n",
    "- no duplicates allow "
   ]
  },
  {
   "cell_type": "code",
   "execution_count": 81,
   "id": "a9c7e2ee",
   "metadata": {},
   "outputs": [
    {
     "data": {
      "text/plain": [
       "{1, 2.1, 5.2, 'ammar', 'codanics', 'faslaabad'}"
      ]
     },
     "execution_count": 81,
     "metadata": {},
     "output_type": "execute_result"
    }
   ],
   "source": [
    "#duplicates cannot add in sets\n",
    "s1 = {1, 2.1, 5.2, \"ammar\", \"codanics\", \"faslaabad\", } \n",
    "s1"
   ]
  },
  {
   "cell_type": "code",
   "execution_count": 84,
   "id": "24297bbe",
   "metadata": {},
   "outputs": [
    {
     "data": {
      "text/plain": [
       "{1, 2.1, 5.2, 'ammar', 'codanics', 'faslaabad', 'umar'}"
      ]
     },
     "execution_count": 84,
     "metadata": {},
     "output_type": "execute_result"
    }
   ],
   "source": [
    "s1.add(\"umar\")\n",
    "s1"
   ]
  },
  {
   "cell_type": "code",
   "execution_count": 85,
   "id": "764fd930",
   "metadata": {},
   "outputs": [
    {
     "data": {
      "text/plain": [
       "{1, 2.1, 5.2, 'ammar', 'codanics', 'faslaabad'}"
      ]
     },
     "execution_count": 85,
     "metadata": {},
     "output_type": "execute_result"
    }
   ],
   "source": [
    "# for removing anything\n",
    "s1.remove(\"umar\")\n",
    "s1"
   ]
  },
  {
   "cell_type": "code",
   "execution_count": null,
   "id": "bcf53b21",
   "metadata": {},
   "outputs": [],
   "source": []
  },
  {
   "cell_type": "code",
   "execution_count": null,
   "id": "2f5a05e5",
   "metadata": {},
   "outputs": [],
   "source": []
  },
  {
   "cell_type": "code",
   "execution_count": null,
   "id": "21084369",
   "metadata": {},
   "outputs": [],
   "source": []
  },
  {
   "cell_type": "code",
   "execution_count": null,
   "id": "acf81406",
   "metadata": {},
   "outputs": [],
   "source": []
  },
  {
   "cell_type": "code",
   "execution_count": null,
   "id": "36dee029",
   "metadata": {},
   "outputs": [],
   "source": []
  },
  {
   "cell_type": "code",
   "execution_count": null,
   "id": "305ba513",
   "metadata": {},
   "outputs": [],
   "source": []
  },
  {
   "cell_type": "code",
   "execution_count": null,
   "id": "cc1fe671",
   "metadata": {},
   "outputs": [],
   "source": []
  },
  {
   "cell_type": "code",
   "execution_count": null,
   "id": "40708282",
   "metadata": {},
   "outputs": [],
   "source": []
  },
  {
   "cell_type": "code",
   "execution_count": null,
   "id": "52bc7d1c",
   "metadata": {},
   "outputs": [],
   "source": []
  },
  {
   "cell_type": "code",
   "execution_count": null,
   "id": "e4fda146",
   "metadata": {},
   "outputs": [],
   "source": []
  },
  {
   "cell_type": "code",
   "execution_count": null,
   "id": "2c8f04f1",
   "metadata": {},
   "outputs": [],
   "source": []
  },
  {
   "cell_type": "code",
   "execution_count": null,
   "id": "f4fdbb4a",
   "metadata": {},
   "outputs": [],
   "source": []
  }
 ],
 "metadata": {
  "kernelspec": {
   "display_name": "Python 3 (ipykernel)",
   "language": "python",
   "name": "python3"
  },
  "language_info": {
   "codemirror_mode": {
    "name": "ipython",
    "version": 3
   },
   "file_extension": ".py",
   "mimetype": "text/x-python",
   "name": "python",
   "nbconvert_exporter": "python",
   "pygments_lexer": "ipython3",
   "version": "3.9.7"
  }
 },
 "nbformat": 4,
 "nbformat_minor": 5
}
