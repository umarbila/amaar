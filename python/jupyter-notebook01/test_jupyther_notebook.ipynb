{
 "cells": [
  {
   "cell_type": "markdown",
   "id": "0f62e891",
   "metadata": {},
   "source": [
    "# pytho n ka chilla with baba ammar\n",
    "## how to use jupyter note book\n",
    "### our basic of python\n",
    "1- my first program"
   ]
  },
  {
   "cell_type": "code",
   "execution_count": 1,
   "id": "7bf62887",
   "metadata": {},
   "outputs": [
    {
     "name": "stdout",
     "output_type": "stream",
     "text": [
      "5\n",
      "hello world\n",
      "we are learning python with ammar\n",
      "hy\n"
     ]
    }
   ],
   "source": [
    "print(2+3) \n",
    "print(\"hello world\")\n",
    "print(\"we are learning python with ammar\")\n",
    "print(\"hy\")"
   ]
  },
  {
   "cell_type": "markdown",
   "id": "0733dc82",
   "metadata": {},
   "source": [
    "**operators**"
   ]
  },
  {
   "cell_type": "code",
   "execution_count": 2,
   "id": "b561d1c4",
   "metadata": {},
   "outputs": [
    {
     "name": "stdout",
     "output_type": "stream",
     "text": [
      "4\n",
      "-1\n",
      "3.0\n",
      "6\n",
      "3\n",
      "27\n",
      "6.5\n"
     ]
    }
   ],
   "source": [
    "2+3\n",
    "print(2+2)\n",
    "print(2-3)\n",
    "print(6/2)\n",
    "print(2*3)\n",
    "print(6//2)\n",
    "print(3**3)\n",
    "print((3**2)/2*3/3+6-4)\n"
   ]
  },
  {
   "cell_type": "markdown",
   "id": "c70bcd3e",
   "metadata": {},
   "source": [
    "**strings**"
   ]
  },
  {
   "cell_type": "code",
   "execution_count": 3,
   "id": "6a5863b5",
   "metadata": {},
   "outputs": [
    {
     "name": "stdout",
     "output_type": "stream",
     "text": [
      "hello world\n",
      "we are learning python with ammar\n",
      "hy\n",
      "text for single quotes\n",
      "text for double quotes\n",
      "text for triple quotes\n",
      "what's up\n"
     ]
    }
   ],
   "source": [
    "print(\"hello world\")\n",
    "print(\"we are learning python with ammar\")\n",
    "print(\"hy\")\n",
    "print('text for single quotes')\n",
    "print(\"text for double quotes\")\n",
    "print('''text for triple quotes''')\n",
    "print(\"what's up\")"
   ]
  },
  {
   "cell_type": "markdown",
   "id": "fcdff262",
   "metadata": {},
   "source": [
    "**comments**"
   ]
  },
  {
   "cell_type": "code",
   "execution_count": 4,
   "id": "d8bd60ae",
   "metadata": {
    "scrolled": true
   },
   "outputs": [
    {
     "name": "stdout",
     "output_type": "stream",
     "text": [
      "how are you?\n",
      "we are learning python with ammar\n",
      "8\n"
     ]
    }
   ],
   "source": [
    "print(\"how are you?\") #press these two comment out (ctrl+/)\n",
    "print(\"we are learning python with ammar\") #print a string\n",
    "print(2+6) #print operator function with number "
   ]
  },
  {
   "cell_type": "markdown",
   "id": "ebe61e65",
   "metadata": {},
   "source": [
    "**variables**"
   ]
  },
  {
   "cell_type": "code",
   "execution_count": 5,
   "id": "3f5010c8",
   "metadata": {},
   "outputs": [
    {
     "name": "stdout",
     "output_type": "stream",
     "text": [
      "5\n",
      "we are learning python with ammar\n",
      "15\n",
      "<class 'int'>\n",
      "<class 'str'>\n",
      "8\n",
      "<class 'int'>\n"
     ]
    }
   ],
   "source": [
    "x = 5 # numeric or integer variable\n",
    "print(x)\n",
    "y=\"we are learning python with ammar\" #string variable\n",
    "print(y)\n",
    "x=x+10\n",
    "print(x)\n",
    "#types of variables\n",
    "type(x)\n",
    "print(type(x))\n",
    "print(type(y))\n",
    "fruit_baskit=\"mangoes\"\n",
    "fruit_baskit=8\n",
    "print(fruit_baskit)\n",
    "print(type(fruit_baskit)) "
   ]
  },
  {
   "cell_type": "markdown",
   "id": "cd73c323",
   "metadata": {},
   "source": [
    "**input variables**"
   ]
  },
  {
   "cell_type": "code",
   "execution_count": 9,
   "id": "afd7f229",
   "metadata": {},
   "outputs": [
    {
     "name": "stdout",
     "output_type": "stream",
     "text": [
      "8\n",
      "what is your favourite fruit?apple\n",
      "apple\n",
      "what is your name?umar\n",
      "hello! umar\n",
      "what is your nameammar\n",
      "what is your age27\n",
      "hello ammar you are still young\n"
     ]
    }
   ],
   "source": [
    " print(fruit_baskit) \n",
    " fruit_baskit=input(\"what is your favourite fruit?\")\n",
    " print(fruit_baskit )\n",
    "    \n",
    "\n",
    " name=input(\"what is your name?\")\n",
    " greetings=\"hello!\"\n",
    " print(greetings, name)\n",
    "\n",
    "\n",
    "name=input(\"what is your name\")\n",
    "age=input(\"what is your age\")\n",
    "greetings=\"hello\"\n",
    "print(greetings, name, \"you are still young\")"
   ]
  },
  {
   "cell_type": "markdown",
   "id": "1a64fb07",
   "metadata": {},
   "source": [
    "**conditional logics**"
   ]
  },
  {
   "cell_type": "code",
   "execution_count": 10,
   "id": "a20e322d",
   "metadata": {},
   "outputs": [
    {
     "name": "stdout",
     "output_type": "stream",
     "text": [
      "False\n"
     ]
    }
   ],
   "source": [
    "hammad_age=4\n",
    "age_at_school_=5\n",
    "print(hammad_age==age_at_school_)"
   ]
  },
  {
   "cell_type": "markdown",
   "id": "92ec6fb3",
   "metadata": {},
   "source": [
    "**conversion type**"
   ]
  },
  {
   "cell_type": "code",
   "execution_count": 11,
   "id": "8c3c0c71",
   "metadata": {},
   "outputs": [
    {
     "name": "stdout",
     "output_type": "stream",
     "text": [
      "102.0 type of x is <class 'float'>\n",
      "what is your age27\n",
      "27 <class 'int'>\n"
     ]
    }
   ],
   "source": [
    "x = 10\n",
    "y = 10.2\n",
    "z = \"hello\"\n",
    "# implicit type conversion\n",
    "x=x*y\n",
    "print(x,\"type of x is\", type(x)) \n",
    "#explicit type conversion\n",
    "age=input(\"what is your age\") \n",
    "# age=int(age)\n",
    "print(age,type(int(age)))"
   ]
  },
  {
   "cell_type": "markdown",
   "id": "c713f7d6",
   "metadata": {},
   "source": [
    "if elif else"
   ]
  },
  {
   "cell_type": "code",
   "execution_count": 12,
   "id": "3a7e979e",
   "metadata": {},
   "outputs": [
    {
     "name": "stdout",
     "output_type": "stream",
     "text": [
      "you should take care og hammad, he is still a baby\n"
     ]
    }
   ],
   "source": [
    "required_age_at_school=10\n",
    "hammad_age=2\n",
    "\n",
    "#can ammad go to school?\n",
    "if hammad_age==required_age_at_school:\n",
    "    print(\"hammad can join the schoool\")\n",
    "elif hammad_age > required_age_at_school:\n",
    "     print(\"hammad should join higher secondary school\") \n",
    "elif hammad_age <= 2:\n",
    "    print(\"you should take care og hammad, he is still a baby\")       \n",
    "else:\n",
    "    print(\"hamaad can not go to school\")    "
   ]
  },
  {
   "cell_type": "markdown",
   "id": "85fa5c33",
   "metadata": {},
   "source": [
    "**functions**"
   ]
  },
  {
   "cell_type": "code",
   "execution_count": 17,
   "id": "7e47c5c6",
   "metadata": {},
   "outputs": [
    {
     "name": "stdout",
     "output_type": "stream",
     "text": [
      "we are learning python with ammar\n",
      "we are learning python with ammar\n",
      "we are learning python with ammar\n"
     ]
    }
   ],
   "source": [
    " def print_codanics():\n",
    "     print(\"we are learning python with ammar\")\n",
    "     print(\"we are learning python with ammar\")\n",
    "     print(\"we are learning python with ammar\")\n",
    " print_codanics()"
   ]
  },
  {
   "cell_type": "code",
   "execution_count": 18,
   "id": "1385f179",
   "metadata": {},
   "outputs": [
    {
     "name": "stdout",
     "output_type": "stream",
     "text": [
      "we are learning python with ammar\n",
      "we are learning python with ammar\n"
     ]
    }
   ],
   "source": [
    "def print_codanics():\n",
    "    text=\"we are learning python with ammar\"\n",
    "    print(text)\n",
    "    print(text)\n",
    "\n",
    "print_codanics()"
   ]
  },
  {
   "cell_type": "code",
   "execution_count": 19,
   "id": "5617f78d",
   "metadata": {},
   "outputs": [
    {
     "name": "stdout",
     "output_type": "stream",
     "text": [
      "we are learning python with ammar\n",
      "we are learning python with ammar\n"
     ]
    }
   ],
   "source": [
    "def print_codanics(text):\n",
    "    print(text)\n",
    "    print(text)\n",
    "print_codanics(\"we are learning python with ammar\")    \n"
   ]
  },
  {
   "cell_type": "code",
   "execution_count": 21,
   "id": "734698a2",
   "metadata": {},
   "outputs": [
    {
     "name": "stdout",
     "output_type": "stream",
     "text": [
      "38\n"
     ]
    }
   ],
   "source": [
    "def future_age(age):   \n",
    "    new_age=age+20\n",
    "    return new_age \n",
    "    print(new_age)\n",
    "future_prected_age=future_age(18) \n",
    "print(future_prected_age)     "
   ]
  },
  {
   "cell_type": "markdown",
   "id": "7dd394b6",
   "metadata": {},
   "source": [
    "**loops**"
   ]
  },
  {
   "cell_type": "code",
   "execution_count": 22,
   "id": "dbdecc42",
   "metadata": {},
   "outputs": [
    {
     "name": "stdout",
     "output_type": "stream",
     "text": [
      "0\n",
      "1\n",
      "2\n",
      "3\n",
      "4\n"
     ]
    }
   ],
   "source": [
    " x=0\n",
    " while(x<5):\n",
    "     print(x)\n",
    "     x=x+1"
   ]
  },
  {
   "cell_type": "code",
   "execution_count": 23,
   "id": "55027710",
   "metadata": {},
   "outputs": [
    {
     "name": "stdout",
     "output_type": "stream",
     "text": [
      "4\n",
      "5\n",
      "6\n",
      "7\n",
      "8\n",
      "9\n",
      "10\n"
     ]
    }
   ],
   "source": [
    "\n",
    " for x in range(4,11):\n",
    "     print(x) "
   ]
  },
  {
   "cell_type": "markdown",
   "id": "54e08d4b",
   "metadata": {},
   "source": [
    "**array**"
   ]
  },
  {
   "cell_type": "code",
   "execution_count": 25,
   "id": "0aa31613",
   "metadata": {},
   "outputs": [
    {
     "name": "stdout",
     "output_type": "stream",
     "text": [
      "mon\n",
      "tue\n",
      "wed\n",
      "sat\n",
      "sun\n"
     ]
    }
   ],
   "source": [
    "days=[\"mon\", \"tue\", \"wed\", \"fri\", \"sat\", \"sun\"]\n",
    "for d in days:\n",
    "    # if(d==\"fri\"):break\n",
    "    if(d==\"fri\"):continue#skips d \n",
    "    print(d)"
   ]
  },
  {
   "cell_type": "markdown",
   "id": "f67575a0",
   "metadata": {},
   "source": [
    "**important library**\n",
    "**if you want to print the value of pi**\n",
    "# import math\n",
    "# print(\"the value of pi is \", math.pi)"
   ]
  },
  {
   "cell_type": "code",
   "execution_count": 26,
   "id": "6c1775fe",
   "metadata": {},
   "outputs": [
    {
     "name": "stdout",
     "output_type": "stream",
     "text": [
      "300\n"
     ]
    }
   ],
   "source": [
    "import statistics\n",
    "x=[150,250,350,450]\n",
    "print(statistics.mean(x))"
   ]
  }
 ],
 "metadata": {
  "kernelspec": {
   "display_name": "Python 3 (ipykernel)",
   "language": "python",
   "name": "python3"
  },
  "language_info": {
   "codemirror_mode": {
    "name": "ipython",
    "version": 3
   },
   "file_extension": ".py",
   "mimetype": "text/x-python",
   "name": "python",
   "nbconvert_exporter": "python",
   "pygments_lexer": "ipython3",
   "version": "3.9.7"
  }
 },
 "nbformat": 4,
 "nbformat_minor": 5
}
